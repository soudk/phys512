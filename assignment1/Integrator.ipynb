{
 "cells": [
  {
   "cell_type": "code",
   "execution_count": 1,
   "metadata": {},
   "outputs": [],
   "source": [
    "import numpy as np\n",
    "import matplotlib.pyplot as plt\n",
    "from scipy import interpolate"
   ]
  },
  {
   "cell_type": "code",
   "execution_count": 28,
   "metadata": {},
   "outputs": [],
   "source": [
    "#Stuff from class in this cell\n",
    "\n",
    "sig=0.1\n",
    "\n",
    "def fun(x):\n",
    "    return 1.0/(1.0+x**2)\n",
    "\n",
    "def fun2(x):\n",
    "    return 1.0+np.exp(-0.5*x**2/(sig**2))\n",
    "\n",
    "def simple_integrate_class(fun,a,b,tol): #from class\n",
    "    x=np.linspace(a,b,5)\n",
    "    dx=(b-a)/4.0\n",
    "    #np.median(np.diff(x))\n",
    "    y=fun(x)\n",
    "    neval=len(x) #let's keep track of function evaluations\n",
    "    f1=(y[0]+4*y[2]+y[4])/6.0*(b-a)\n",
    "    f2=(y[0]+4*y[1]+2*y[2]+4*y[3]+y[4])/12.0*(b-a)\n",
    "    myerr=np.abs(f2-f1)\n",
    "    #print([a,b,f1,f2])\n",
    "    if (myerr<tol):\n",
    "        #return (f2)/1.0,myerr,neval\n",
    "        return (16.0*f2-f1)/15.0,myerr,neval\n",
    "    else:\n",
    "        mid=0.5*(b+a)\n",
    "        f_left,err_left,neval_left=simple_integrate_class(fun,a,mid,tol/2.0)\n",
    "        f_right,err_right,neval_right=simple_integrate_class(fun,mid,b,tol/2.0)\n",
    "        neval=neval+neval_left+neval_right\n",
    "        f=f_left+f_right\n",
    "        err=err_left+err_right\n",
    "        return f,err,neval"
   ]
  },
  {
   "cell_type": "code",
   "execution_count": 35,
   "metadata": {},
   "outputs": [
    {
     "name": "stdout",
     "output_type": "stream",
     "text": [
      "f,err,neval are [2.350402387583493, 2.9828635745715593e-06, 75] with err 2.958904232741588e-10\n"
     ]
    }
   ],
   "source": [
    "#Results from class\n",
    "\n",
    "f,err,neval=simple_integrate_class(np.exp,-1,1,1e-5)\n",
    "\n",
    "pred=np.exp(1)-np.exp(-1)\n",
    "\n",
    "#f,err,neval=simple_integrate_class(fun,-1,1,1e-4);pred=np.arctan(1)-np.arctan(-1)\n",
    "#a=-5;b=5;f,err,neval=simple_integrate_class(fun2,a,b,1e-4);pred=(b-a)+np.sqrt(2*np.pi)*sig\n",
    "print('f,err,neval are ' + repr([f,err,neval])+' with err ' + repr(np.abs(f-pred)))"
   ]
  },
  {
   "cell_type": "code",
   "execution_count": 63,
   "metadata": {},
   "outputs": [],
   "source": [
    "#New class here for \"smarter\" integration with less function calls\n",
    "\n",
    "\n",
    "def less_simple_integrate(fun,a,b,tol, lr=\"none\", y_old=np.zeros(5)): #Doesn't call fun(x) multiple times for same x\n",
    "    x=np.linspace(a,b,5)\n",
    "    #dx=(b-a)/4.0\n",
    "    y=np.zeros(5)\n",
    "    neval=0\n",
    "    #print(y)\n",
    "    #print(y_old)\n",
    "    if lr == \"l\":\n",
    "        y[0] = y_old[0] #Left bound is the same\n",
    "        y[2] = y_old[1] #We can carry the mid over\n",
    "        y[4] = y_old[2] #Old mid is now right bound\n",
    "        y[1] = fun(x[1])\n",
    "        y[3] = fun(x[3])\n",
    "        neval +=2\n",
    "    elif lr == \"r\":\n",
    "        y[0] = y_old[2] #Old mid is the new left bound\n",
    "        y[4] = y_old[4] #Right bound is the same \n",
    "        y[2] = y_old[3]\n",
    "        y[1] = fun(x[1])\n",
    "        y[3] = fun(x[3])\n",
    "        neval+=2\n",
    "    else:\n",
    "        y=fun(x)\n",
    "        neval+=5\n",
    "        y_left = y[0]\n",
    "        y_right = y[4]\n",
    "        y_mid = y[2]\n",
    "\n",
    "\n",
    "    f1=(y[0]+4*y[2]+y[4])/6.0*(b-a)\n",
    "    f2=(y[0]+4*y[1]+2*y[2]+4*y[3]+y[4])/12.0*(b-a)\n",
    "\n",
    "    myerr=np.abs(f2-f1)\n",
    "\n",
    "    #print([a,b,f1,f2])\n",
    "    if (myerr<tol):\n",
    "        #return (f2)/1.0,myerr,neval\n",
    "        return (16.0*f2-f1)/15.0,myerr,neval\n",
    "    else:\n",
    "        mid=0.5*(b+a)\n",
    "        \n",
    "        f_right,err_right,neval_right=less_simple_integrate(fun,x[2],x[4],tol/2.0, \"r\", y)\n",
    "        f_left,err_left,neval_left=less_simple_integrate(fun,x[0],x[2],tol/2.0, \"l\", y)\n",
    "        \n",
    "\n",
    "        neval=neval+neval_left+neval_right\n",
    "\n",
    "        f=f_left+f_right\n",
    "        err=err_left+err_right\n",
    "\n",
    "        return f,err,neval\n"
   ]
  },
  {
   "cell_type": "code",
   "execution_count": 69,
   "metadata": {},
   "outputs": [
    {
     "name": "stdout",
     "output_type": "stream",
     "text": [
      "NEW: f,err,neval are [2.350402387287623, 3.6728021630960672e-09, 193] with err 2.042810365310288e-14\n",
      "CLASS: f,err,neval are [2.350402387287623, 3.6728021630960672e-09, 475] with err 2.042810365310288e-14\n"
     ]
    }
   ],
   "source": [
    "tol = 1e-8\n",
    "\n",
    "f,err,neval = less_simple_integrate(np.exp,-1,1,tol)\n",
    "\n",
    "pred=np.exp(1)-np.exp(-1)\n",
    "\n",
    "#f,err,neval=simple_integrate_class(fun,-1,1,1e-4);pred=np.arctan(1)-np.arctan(-1)\n",
    "#a=-5;b=5;f,err,neval=simple_integrate_class(fun2,a,b,1e-4);pred=(b-a)+np.sqrt(2*np.pi)*sig\n",
    "print('NEW: f,err,neval are ' + repr([f,err,neval])+' with err ' + repr(np.abs(f-pred)))\n",
    "\n",
    "#Results from class\n",
    "\n",
    "f,err,neval=simple_integrate_class(np.exp,-1,1,tol)\n",
    "\n",
    "pred=np.exp(1)-np.exp(-1)\n",
    "\n",
    "#f,err,neval=simple_integrate_class(fun,-1,1,1e-4);pred=np.arctan(1)-np.arctan(-1)\n",
    "#a=-5;b=5;f,err,neval=simple_integrate_class(fun2,a,b,1e-4);pred=(b-a)+np.sqrt(2*np.pi)*sig\n",
    "print('CLASS: f,err,neval are ' + repr([f,err,neval])+' with err ' + repr(np.abs(f-pred)))\n"
   ]
  },
  {
   "cell_type": "markdown",
   "metadata": {},
   "source": []
  },
  {
   "cell_type": "code",
   "execution_count": 83,
   "metadata": {},
   "outputs": [
    {
     "data": {
      "text/plain": [
       "<matplotlib.legend.Legend at 0x7f7330272090>"
      ]
     },
     "execution_count": 83,
     "metadata": {},
     "output_type": "execute_result"
    },
    {
     "data": {
      "image/png": "[encoded data removed]",
      "text/plain": [
       "<matplotlib.figure.Figure at 0x7f7338262a50>"
      ]
     },
     "metadata": {
      "needs_background": "light"
     },
     "output_type": "display_data"
    }
   ],
   "source": [
    "tol = np.linspace(1e-8, 1e-3, 10000)\n",
    "numCallsClass = np.zeros(len(tol))\n",
    "numCallsNew = np.zeros(len(tol))\n",
    "\n",
    "for i, t in enumerate(tol):\n",
    "    numCallsClass[i] = simple_integrate_class(np.exp,-1,1,t)[2]\n",
    "    numCallsNew[i] = less_simple_integrate(np.exp,-1,1,t)[2]\n",
    "\n",
    "\n",
    "plt.plot(tol, numCallsClass, '.', label='class algorithm')\n",
    "plt.plot(tol, numCallsNew, '.', label='new algorithm')\n",
    "plt.yscale('log')\n",
    "plt.xscale('log')\n",
    "plt.xlabel('Required Tolerance')\n",
    "plt.ylabel('Number of Function Calls')\n",
    "plt.legend()"
   ]
  },
  {
   "cell_type": "code",
   "execution_count": null,
   "metadata": {},
   "outputs": [],
   "source": []
  }
 ],
 "metadata": {
  "kernelspec": {
   "display_name": "Python 2",
   "language": "python",
   "name": "python2"
  },
  "language_info": {
   "codemirror_mode": {
    "name": "ipython",
    "version": 2
   },
   "file_extension": ".py",
   "mimetype": "text/x-python",
   "name": "python",
   "nbconvert_exporter": "python",
   "pygments_lexer": "ipython2",
   "version": "2.7.15+"
  }
 },
 "nbformat": 4,
 "nbformat_minor": 2
}
