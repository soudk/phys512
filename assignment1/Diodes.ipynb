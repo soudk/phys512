{
 "cells": [
  {
   "cell_type": "code",
   "execution_count": 1,
   "metadata": {},
   "outputs": [],
   "source": [
    "import numpy as np\n",
    "import matplotlib.pyplot as plt\n",
    "from scipy import interpolate"
   ]
  },
  {
   "cell_type": "code",
   "execution_count": 23,
   "metadata": {},
   "outputs": [],
   "source": [
    "class InterDiode:\n",
    "    \n",
    "    def __init__(self, name = \"Lakeshore DT-670\", data_file = \"lakeshore.txt\"):\n",
    "        self.data_loaded = False\n",
    "        self.name = name\n",
    "        self.load_data(data_file) #Needs data in 3 column text file with columns T, V, dV/dT\n",
    "    \n",
    "\n",
    "    def load_data(self, data_file):\n",
    "        self.data = np.loadtxt(data_file) #Columns are T, V, dV/dT\n",
    "\n",
    "        self.data = self.data[self.data[:,1].argsort()] #Sorting by voltage, column 1 so that splrep works properly\n",
    "\n",
    "        self.temp = self.data[:,0]\n",
    "        self.volt = self.data[:, 1]\n",
    "        self.dvdt = self.data[:, 2]\n",
    "        self.data_loaded = True\n",
    "        #Get the spline object\n",
    "        self.spln = interpolate.splrep(self.volt, self.temp, k=3)\n",
    "        \n",
    "    def interpolateDiode(self,interx):\n",
    "        if(self.data_loaded) and (interx > self.data[:, 1][0] and interx < self.data[:, 1][-1]):\n",
    "            return interpolate.splev(interx, self.spln)\n",
    "        elif (self.data_loaded):\n",
    "            print(\"Beware, extrapolating!\")\n",
    "            return interpolate.splev(interx, self.spln)\n",
    "        else:\n",
    "            print(\"Loading data...\")\n",
    "            self.load_data(self.data_file)\n",
    "            return interpolate.splev(interx, self.spln)\n"
   ]
  },
  {
   "cell_type": "code",
   "execution_count": 31,
   "metadata": {},
   "outputs": [
    {
     "name": "stdout",
     "output_type": "stream",
     "text": [
      "Beware, extrapolating!\n"
     ]
    },
    {
     "data": {
      "text/plain": [
       "array(545.29313277)"
      ]
     },
     "execution_count": 31,
     "metadata": {},
     "output_type": "execute_result"
    }
   ],
   "source": [
    "#Initiate an instance of the default class (Lakeshore DT 670)\n",
    "dt670 = InterDiode()\n",
    "#Interpolate what temperature would give a voltage of 0.19 at 10 uA current. \n",
    "dt670.interpolateDiode(0.009)"
   ]
  },
  {
   "cell_type": "code",
   "execution_count": 38,
   "metadata": {},
   "outputs": [
    {
     "data": {
      "text/plain": [
       "<matplotlib.text.Text at 0x7f6ce3c84d50>"
      ]
     },
     "execution_count": 38,
     "metadata": {},
     "output_type": "execute_result"
    },
    {
     "data": {
      "image/png": "[encoded data removed]",
      "text/plain": [
       "<matplotlib.figure.Figure at 0x7f6ce3fc6c50>"
      ]
     },
     "metadata": {
      "needs_background": "light"
     },
     "output_type": "display_data"
    }
   ],
   "source": [
    "#Checking interpolation across full range\n",
    "interx = np.linspace(dt670.volt[0], dt670.volt[-1], 1000)\n",
    "intery = interpolate.splev(interx, dt670.spln)\n",
    "\n",
    "plt.plot(dt670.volt, dt670.temp, '*')\n",
    "plt.plot(interx, intery, '-')\n",
    "plt.xlabel('Voltage')\n",
    "plt.ylabel('Temperature')\n",
    "plt.title(dt670.name)\n",
    "\n"
   ]
  },
  {
   "cell_type": "code",
   "execution_count": 39,
   "metadata": {},
   "outputs": [],
   "source": []
  },
  {
   "cell_type": "code",
   "execution_count": null,
   "metadata": {},
   "outputs": [],
   "source": []
  }
 ],
 "metadata": {
  "kernelspec": {
   "display_name": "Python 2",
   "language": "python",
   "name": "python2"
  },
  "language_info": {
   "codemirror_mode": {
    "name": "ipython",
    "version": 2
   },
   "file_extension": ".py",
   "mimetype": "text/x-python",
   "name": "python",
   "nbconvert_exporter": "python",
   "pygments_lexer": "ipython2",
   "version": "2.7.15+"
  }
 },
 "nbformat": 4,
 "nbformat_minor": 2
}
