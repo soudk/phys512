{
 "cells": [
  {
   "cell_type": "code",
   "execution_count": 1,
   "metadata": {},
   "outputs": [],
   "source": [
    "import numpy as np\n",
    "import matplotlib.pyplot as plt\n",
    "from scipy import interpolate"
   ]
  },
  {
   "cell_type": "code",
   "execution_count": 2,
   "metadata": {},
   "outputs": [],
   "source": [
    "#Make a class for the diode interpolation...\n",
    "class InterDiode:\n",
    "    \n",
    "    def __init__(self, name = \"Lakeshore DT-670\", data_file = \"lakeshore.txt\"): # Default use lakshore model, data...\n",
    "        self.data_loaded = False\n",
    "        self.name = name\n",
    "        self.load_data(data_file) #Needs data in 3 column text file with columns T, V, dV/dT\n",
    "    \n",
    "\n",
    "    def load_data(self, data_file):\n",
    "        self.data = np.loadtxt(data_file) #Columns are T, V, dV/dT\n",
    "\n",
    "        self.data = self.data[self.data[:,1].argsort()] #Sorting by voltage, column 1 so that splrep works properly\n",
    "\n",
    "        self.temp = self.data[:,0]\n",
    "        self.volt = self.data[:, 1]\n",
    "        self.dvdt = self.data[:, 2]\n",
    "        self.data_loaded = True\n",
    "        \n",
    "        #Get the spline object (cubic)\n",
    "        self.spln = interpolate.splrep(self.volt, self.temp, k=3)\n",
    "        \n",
    "    def interpolateDiode(self,interx): #Evaluate the spline\n",
    "        #if within data range, all is good.\n",
    "        if(self.data_loaded) and (interx > self.data[:, 1][0] and interx < self.data[:, 1][-1]): \n",
    "            return interpolate.splev(interx, self.spln)\n",
    "        #If we are extrapolating, print a warning.\n",
    "        elif (self.data_loaded):\n",
    "            print(\"Beware, extrapolating!\") \n",
    "            return interpolate.splev(interx, self.spln)\n",
    "        #If the data isn't loaded, load it and go on...\n",
    "        else:\n",
    "            print(\"Loading data...\")\n",
    "            self.load_data(self.data_file)\n",
    "            return interpolate.splev(interx, self.spln)\n"
   ]
  },
  {
   "cell_type": "code",
   "execution_count": 3,
   "metadata": {},
   "outputs": [
    {
     "name": "stdout",
     "output_type": "stream",
     "text": [
      "Interpolated temperature for voltage of 0.19V at 10 uA: 457.002 Kevlin\n"
     ]
    }
   ],
   "source": [
    "#Example of how to use the class...\n",
    "\n",
    "#Initiate an instance of the default class (Lakeshore DT 670)\n",
    "dt670 = InterDiode()\n",
    "\n",
    "#Interpolate what temperature would give a voltage of 0.19 at 10 uA current. \n",
    "print(\"Interpolated temperature for voltage of 0.19V at 10 uA: %.3f Kevlin\"%dt670.interpolateDiode(0.19))"
   ]
  },
  {
   "cell_type": "code",
   "execution_count": 4,
   "metadata": {},
   "outputs": [
    {
     "data": {
      "text/plain": [
       "<matplotlib.text.Text at 0x7f34ee0677d0>"
      ]
     },
     "execution_count": 4,
     "metadata": {},
     "output_type": "execute_result"
    },
    {
     "data": {
      "image/png": "[encoded data removed]",
      "text/plain": [
       "<matplotlib.figure.Figure at 0x7f34f00d5b50>"
      ]
     },
     "metadata": {
      "needs_background": "light"
     },
     "output_type": "display_data"
    }
   ],
   "source": [
    "#Checking interpolation across full range\n",
    "interx = np.linspace(dt670.volt[0], dt670.volt[-1], 1000)\n",
    "intery = interpolate.splev(interx, dt670.spln)\n",
    "\n",
    "plt.plot(dt670.volt, dt670.temp, '*')\n",
    "plt.plot(interx, intery, '-')\n",
    "plt.xlabel('Voltage')\n",
    "plt.ylabel('Temperature')\n",
    "plt.title(dt670.name)"
   ]
  },
  {
   "cell_type": "markdown",
   "metadata": {},
   "source": [
    "Looking good! Now let's try to estimate the error..."
   ]
  },
  {
   "cell_type": "code",
   "execution_count": 5,
   "metadata": {},
   "outputs": [
    {
     "data": {
      "text/plain": [
       "<matplotlib.text.Text at 0x7f34edf70e50>"
      ]
     },
     "execution_count": 5,
     "metadata": {},
     "output_type": "execute_result"
    },
    {
     "data": {
      "image/png": "[encoded data removed]",
      "text/plain": [
       "<matplotlib.figure.Figure at 0x7f353c0cbb10>"
      ]
     },
     "metadata": {
      "needs_background": "light"
     },
     "output_type": "display_data"
    }
   ],
   "source": [
    "#A quick zoom in...\n",
    "plt.plot(dt670.volt, dt670.temp, '*')\n",
    "plt.plot(interx, intery, '-')\n",
    "plt.xlabel('Voltage')\n",
    "plt.ylabel('Temperature')\n",
    "plt.xlim(1.05, 1.15)\n",
    "plt.ylim(20, 70)\n",
    "plt.title(dt670.name)"
   ]
  },
  {
   "cell_type": "markdown",
   "metadata": {},
   "source": [
    "Okay so the function looks continuous... And we know it is piecewise continuous. It also doesn't have poles so we shouldn't expect ringing. \n",
    "\n",
    "Since we know we forced the polynomial order to be 3 (cubic spline) an upper bound on the maximum error can be calculated using the fourth power of the ditance between data points. In the spline case, we will use the largest distance between the knots (to the fourth power) as a metric on our error and multiply this by the constant : $$max(\\frac{f(x)}{4!})$$ as shown in [1]. \n",
    "\n",
    "For references see: \n",
    "\n",
    "[1] https://www.math.uh.edu/~jingqiu/math4364/spline.pdf p.12\n",
    "\n",
    "[2] Press, William H., et al. Numerical recipes 3rd edition: The art of scientific computing. Cambridge university press, 2007, pp120-123."
   ]
  },
  {
   "cell_type": "code",
   "execution_count": 6,
   "metadata": {},
   "outputs": [
    {
     "name": "stdout",
     "output_type": "stream",
     "text": [
      "Error bound: plus or minus 0.60 Kelvin\n"
     ]
    }
   ],
   "source": [
    "knots = dt670.spln[0] #The knots in the spline.\n",
    "\n",
    "#Searching for maximum distance between the knots. \n",
    "maxd=max(np.diff(knots)) #Variable for maximum distance between knots\n",
    "\n",
    "        \n",
    "#We can get the third derivative at all the data points we need. Then we just need to compute one more numerically.\n",
    "vspace = np.linspace(min(dt670.volt), max(dt670.volt), 10) #voltage interpolation space\n",
    "third_der = interpolate.splev(vspace, dt670.spln, der=3)\n",
    "\n",
    "#Note: dx is constant and set at:\n",
    "dx=(max(dt670.volt) - min(dt670.volt))/len(third_der)\n",
    "\n",
    "#rough approximation of the fourth derivative of the spline\n",
    "fourth_der_approx = np.diff(third_der)/dx \n",
    "\n",
    "#The constant we need to multiply by the \n",
    "const = (max(fourth_der_approx)/np.math.factorial(4))\n",
    "\n",
    "        \n",
    "print(r\"Error bound: plus or minus %.2f Kelvin\"%(np.abs(const*maxd**4.0)))"
   ]
  },
  {
   "cell_type": "markdown",
   "metadata": {},
   "source": [
    "And so I would say our error is ~ $1$ Kelvin due to the error in our fourth derivative estimate. \n",
    "\n",
    "Another way of doing this would be to fit the data to a function, calculate the fourth derivative analytically and then take the maximum of that to reduce the error further.\n",
    "\n",
    "OR we could try some bootstrapping and randomly take out points from our data set, generate a new spline and look for the maximum difference in the interpolants, take a distribution of that and find the standard deviation and pick that as our error. "
   ]
  },
  {
   "cell_type": "markdown",
   "metadata": {},
   "source": [
    "## Bootstrap method"
   ]
  },
  {
   "cell_type": "code",
   "execution_count": 180,
   "metadata": {},
   "outputs": [
    {
     "data": {
      "text/plain": [
       "[<matplotlib.lines.Line2D at 0x7f34e7f2f890>]"
      ]
     },
     "execution_count": 180,
     "metadata": {},
     "output_type": "execute_result"
    },
    {
     "data": {
      "image/png": "[encoded data removed]",
      "text/plain": [
       "<matplotlib.figure.Figure at 0x7f34ec4b72d0>"
      ]
     },
     "metadata": {
      "needs_background": "light"
     },
     "output_type": "display_data"
    }
   ],
   "source": [
    "import random\n",
    "\n",
    "#Select 60% of data points randomly\n",
    "frac=0.6\n",
    "data_size = np.size(dt670.volt)\n",
    "selected =[]\n",
    "\n",
    "v = np.zeros(int(np.floor(data_size*frac)))\n",
    "T = np.zeros(int(np.floor(data_size*frac)))\n",
    "pos = []\n",
    "\n",
    "for i in range(len(v)):\n",
    "    rv = random.choice(dt670.volt) #Choose a random voltage from the data set\n",
    "    pos_temp = np.where(dt670.volt == rv) #Get its position, needs to be unique\n",
    "    if pos_temp in pos: \n",
    "        continue\n",
    "    else:\n",
    "        pos.append(pos_temp)\n",
    "        v[i]= dt670.volt[pos_temp]\n",
    "        T[i]= dt670.temp[pos_temp]\n",
    "        #print(T[i])\n",
    "\n",
    "#Reorder in increasing voltage....\n",
    "sort_index = v.argsort() #Sorted indices in increasing V\n",
    "v_new = v[sort_index]\n",
    "T_new=T[sort_index]\n",
    "\n",
    "#remove zeros from skipping duplicate data points in random sampling\n",
    "rangedel=[]\n",
    "for i in range(len(v_new)):\n",
    "    if (v_new[i] < 0.0001) or (T_new[i] < 0.0001):\n",
    "        #print(\"Deletingg!!\")\n",
    "        #print(v_new[i])\n",
    "        rangedel.append(i)\n",
    "\n",
    "v_new = np.delete(v_new, rangedel)\n",
    "T_new = np.delete(T_new, rangedel)\n",
    "\n",
    "#Now we can get a new spline\n",
    "interx = np.linspace(min(dt670.volt), max(dt670.volt), 1000)\n",
    "new_spln = interpolate.splrep(v_new, T_new, k=3)\n",
    "\n",
    "#And evaluate the new spline at the data points which were not selected\n",
    "intery=interpolate.splev(interx,new_spln)\n",
    "    \n",
    "#print(v_new, T_new)\n",
    "plt.plot(dt670.volt, dt670.temp, '*')\n",
    "plt.plot(v_new, T_new, '*')\n",
    "plt.plot(interx, intery, '--')"
   ]
  },
  {
   "cell_type": "code",
   "execution_count": 186,
   "metadata": {},
   "outputs": [
    {
     "name": "stdout",
     "output_type": "stream",
     "text": [
      "Mean is: 9.01e-03 with an std of: 5.18e-02\n"
     ]
    },
    {
     "data": {
      "image/png": "[encoded data removed]",
      "text/plain": [
       "<matplotlib.figure.Figure at 0x7f34e7c5e790>"
      ]
     },
     "metadata": {
      "needs_background": "light"
     },
     "output_type": "display_data"
    }
   ],
   "source": [
    "#Evaluate the spline at the data points that were not used to get an error spread.\n",
    "err_arr = []\n",
    "for i in range(len(dt670.volt)):\n",
    "    if not (i in pos): #Look at values we haven't used in the new spline\n",
    "        err_arr.append(np.abs(dt670.temp[i] - interpolate.splev(dt670.volt[i],new_spln) ))\n",
    "\n",
    "        \n",
    "#print(err_arr)\n",
    "\n",
    "plt.hist(err_arr)\n",
    "plt.xlabel(\"Error in Interpolated Temperature\")\n",
    "plt.ylabel(\"Counts\")\n",
    "print(\"Mean is: %.2e with an std of: %.2e\"%(np.mean(err_arr), np.std(err_arr)))"
   ]
  },
  {
   "cell_type": "markdown",
   "metadata": {},
   "source": [
    "A rough estimate of the error in this case would be 0.01 Kelvin (rounding 9e-3 up)"
   ]
  },
  {
   "cell_type": "code",
   "execution_count": null,
   "metadata": {},
   "outputs": [],
   "source": []
  },
  {
   "cell_type": "code",
   "execution_count": null,
   "metadata": {},
   "outputs": [],
   "source": []
  }
 ],
 "metadata": {
  "kernelspec": {
   "display_name": "Python 2",
   "language": "python",
   "name": "python2"
  },
  "language_info": {
   "codemirror_mode": {
    "name": "ipython",
    "version": 2
   },
   "file_extension": ".py",
   "mimetype": "text/x-python",
   "name": "python",
   "nbconvert_exporter": "python",
   "pygments_lexer": "ipython2",
   "version": "2.7.15+"
  }
 },
 "nbformat": 4,
 "nbformat_minor": 2
}
