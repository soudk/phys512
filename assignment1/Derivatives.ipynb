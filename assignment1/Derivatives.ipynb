{
 "cells": [
  {
   "cell_type": "markdown",
   "metadata": {},
   "source": [
    "## Question 1\n",
    "---\n",
    "### 1a)\n",
    "\n",
    "As we *should* know: \n",
    "\n",
    "$$f(x+dx) \\approx f(x) + f'(x)dx + \\frac{1}{2}f''(x)dx^2 + \\frac{1}{6}f'''(x)dx^3 + ...$$\n",
    "\n",
    "And \n",
    "\n",
    "$$f(x-dx) \\approx f(x) - f'(x)dx + \\frac{1}{2}f''(x)dx^2 - \\frac{1}{6}f'''(x)dx^3 - ...$$\n",
    "\n",
    "Similarly, \n",
    "\n",
    "$$f(x\\pm 2dx) \\approx f(x) \\pm 2f'(x)dx + 2f''(x)dx^2 \\pm \\frac{8}{6}f'''(x)dx^3 + ...$$\n",
    "\n",
    "\n",
    "In combining them, we can write: \n",
    "\n",
    "(A) $$f(x+dx) - f(x-dx) \\approx 2f'(x)dx +\\frac{2}{6}f'''(x)dx^3 + ...$$\n",
    "\n",
    "and similarly, \n",
    "\n",
    "(B) $$f(x+2dx) - f(x-2dx) = 4f'(x)dx + \\frac{16}{6}f'''(x)dx^3 +... $$ \n",
    "\n",
    "\n",
    "We then subtract 8 times B from A to give (neglecting higher order terms) :\n",
    "\n",
    "(A) - 8$\\times$(B)  = $4f'(x)dx + \\frac{16}{6}f'''(x)dx^3 - 8\\times(2f'(x)dx + \\frac{2}{6}f'''(x)dx^3$ = $-12f'(x)dx$\n",
    "\n",
    "Thus, we have shown that: \n",
    "\n",
    "$$\\frac{f(x+2dx) - f(x-2dx) - 8\\cdot(f(x+dx) - f(x-dx)) }{-12dx} = f'(x)$$\n",
    "\n",
    "\n",
    "---\n",
    "### 1b)\n",
    "\n",
    "\n",
    "In class, we talked about how machine precision affects the error in our derivative. We expressed this as; \n",
    "\n",
    "$$\\tilde{f}(x) \\rightarrow f(x)(1+g\\epsilon)$$ \n",
    "\n",
    "where $\\tilde{f}(x)$ is what the machine gets, $g$ is gaussian random number of order unity, and $\\epsilon$ is the machine precision.\n",
    "\n",
    "For brevity, let's the equations from **1. a)** as $f(x\\pm dx) \\rightarrow f_{\\pm}$ and similarly $f(x\\pm 2dx) \\rightarrow f_{2\\pm}$ and denote the error in $f'(x)$ as $f_e(x)$\n",
    "\n",
    "Now we have:\n",
    "\n",
    "$$f_e'(x) = \\frac{(1+g\\epsilon)(f_{2+} - f_{2-} - 8(f_+ - f_-))}{-12dx}$$\n",
    "\n",
    "in the machine. \n",
    "\n",
    "We exapand $f_{\\pm}$ and$f_{2\\pm}$ accordingly and\n",
    "\n",
    "1. To leading order, i.e. ignore factors of $f'g\\epsilon$dx and above\n",
    "2. Dropping the g as unity\n",
    "3. Taking the absolute value (we are trying to get an error centered about 0 after all...) \n",
    "\n",
    "we have: \n",
    "\n",
    "$$\\frac{2f\\cdot\\epsilon + 4f'dx - 16f\\cdot\\epsilon -16f'dx}{12dx} = f_e'(dx) = \\frac{14f\\cdot\\epsilon}{12dx} +12 f'$$\n",
    "\n",
    "Differentiating w.r.t $dx$ to minimize $f_e'(x)$:\n",
    "\n",
    "$$dx = \\sqrt{\\frac{15f(x)\\cdot\\epsilon}{144f'(x)}}$$.\n",
    "\n",
    "For a machine precision of $\\approx 10^{-8}$, and the function $e^{x}$ and $e^{0.01x}$ evaluated at x = 1.0.\n",
    "We would have an optimal $dx$ around $\\approx 3.8\\cdot10^{-4}$ and $\\approx 3.8\\cdot10^{-3}$ respectively.\n",
    "\n",
    "\n",
    "\n"
   ]
  },
  {
   "cell_type": "code",
   "execution_count": 1,
   "metadata": {},
   "outputs": [],
   "source": [
    "import numpy as np\n",
    "import matplotlib.pyplot as plt"
   ]
  },
  {
   "cell_type": "code",
   "execution_count": 69,
   "metadata": {},
   "outputs": [],
   "source": [
    "#Define an exponential exp(x) and exp(0.01*x) and their derivatives.\n",
    "def fun(x):\n",
    "    return np.exp(x)\n",
    "\n",
    "def fun2(x):\n",
    "    return np.exp(0.01*x)\n",
    "\n",
    "def der_fun(x, dx):\n",
    "    return (fun(x+2.0*dx) - fun(x-2.0*dx) - 8.0*(fun(x+dx) - fun(x-dx)))/(-12.0*dx)\n",
    "\n",
    "def der_fun2(x, dx):\n",
    "    return (fun2(x+2.0*dx) - fun2(x-2.0*dx) - 8.0*(fun2(x+dx) - fun2(x-dx)))/(-12.0*dx)"
   ]
  },
  {
   "cell_type": "code",
   "execution_count": 94,
   "metadata": {},
   "outputs": [],
   "source": [
    "dx = np.linspace(1.0e-9, 1.0, 100000, dtype='float64')\n",
    "#At x = 1.0 exp(x) should have derivative of e and exp(0.01) derivative of 0.01e^0.01\n",
    "x=1.0 \n",
    "der = der_fun(x, dx)\n",
    "der2 = der_fun2(x, dx)"
   ]
  },
  {
   "cell_type": "code",
   "execution_count": 95,
   "metadata": {},
   "outputs": [
    {
     "data": {
      "image/png": "[encoded data removed]",
      "text/plain": [
       "<matplotlib.figure.Figure at 0x7f2c05c82b10>"
      ]
     },
     "metadata": {
      "needs_background": "light"
     },
     "output_type": "display_data"
    }
   ],
   "source": [
    "err = np.abs(np.e - der)\n",
    "\n",
    "err2 = np.abs(np.exp(0.01)*0.01 - der2)\n",
    "plt.plot(dx, err, '-', label = 'error on derivative of '+r'$e^{x}$', color='orange')\n",
    "plt.plot(dx, err2, '-', label = 'error on derivative of '+r'$e^{0.01x}$')\n",
    "plt.xlabel('dx')\n",
    "plt.ylabel('Error in Derivative')\n",
    "plt.xscale('log')\n",
    "plt.legend()\n",
    "plt.yscale('log')\n",
    "plt.tight_layout()"
   ]
  },
  {
   "cell_type": "markdown",
   "metadata": {},
   "source": [
    "As expected, we see minima for values of $dx$ around $10^{-3}$ and $10^{-1}$ !"
   ]
  },
  {
   "cell_type": "markdown",
   "metadata": {},
   "source": []
  },
  {
   "cell_type": "code",
   "execution_count": null,
   "metadata": {},
   "outputs": [],
   "source": []
  },
  {
   "cell_type": "code",
   "execution_count": null,
   "metadata": {},
   "outputs": [],
   "source": []
  },
  {
   "cell_type": "code",
   "execution_count": null,
   "metadata": {},
   "outputs": [],
   "source": []
  }
 ],
 "metadata": {
  "kernelspec": {
   "display_name": "Python 2",
   "language": "python",
   "name": "python2"
  },
  "language_info": {
   "codemirror_mode": {
    "name": "ipython",
    "version": 2
   },
   "file_extension": ".py",
   "mimetype": "text/x-python",
   "name": "python",
   "nbconvert_exporter": "python",
   "pygments_lexer": "ipython2",
   "version": "2.7.15+"
  }
 },
 "nbformat": 4,
 "nbformat_minor": 2
}
